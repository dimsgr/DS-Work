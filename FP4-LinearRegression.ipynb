{
 "cells": [
  {
   "cell_type": "code",
   "execution_count": 98,
   "metadata": {
    "collapsed": false
   },
   "outputs": [],
   "source": [
    "#imports\n",
    "from __future__ import division\n",
    "import pandas as pd\n",
    "import numpy as np\n",
    "import matplotlib\n",
    "import matplotlib.pyplot as plt\n",
    "import statsmodels.api as sm\n",
    "import scipy.stats as stats\n",
    "from sklearn.metrics import mean_squared_error\n",
    "import pylab as pl\n",
    "import numpy as np\n",
    "%matplotlib inline\n",
    "matplotlib.style.use('ggplot')"
   ]
  },
  {
   "cell_type": "markdown",
   "metadata": {},
   "source": [
    "# Data Import and Prepare"
   ]
  },
  {
   "cell_type": "code",
   "execution_count": 99,
   "metadata": {
    "collapsed": false
   },
   "outputs": [
    {
     "data": {
      "text/html": [
       "<div>\n",
       "<table border=\"1\" class=\"dataframe\">\n",
       "  <thead>\n",
       "    <tr style=\"text-align: right;\">\n",
       "      <th></th>\n",
       "      <th>mpg</th>\n",
       "      <th>cylinders</th>\n",
       "      <th>displacement</th>\n",
       "      <th>horsepower</th>\n",
       "      <th>weight</th>\n",
       "      <th>acceleration</th>\n",
       "      <th>model_year</th>\n",
       "      <th>origin</th>\n",
       "      <th>car_name</th>\n",
       "    </tr>\n",
       "  </thead>\n",
       "  <tbody>\n",
       "    <tr>\n",
       "      <th>0</th>\n",
       "      <td>18</td>\n",
       "      <td>8</td>\n",
       "      <td>307</td>\n",
       "      <td>130.0</td>\n",
       "      <td>3504</td>\n",
       "      <td>12.0</td>\n",
       "      <td>70</td>\n",
       "      <td>1</td>\n",
       "      <td>chevrolet chevelle malibu</td>\n",
       "    </tr>\n",
       "    <tr>\n",
       "      <th>1</th>\n",
       "      <td>15</td>\n",
       "      <td>8</td>\n",
       "      <td>350</td>\n",
       "      <td>165.0</td>\n",
       "      <td>3693</td>\n",
       "      <td>11.5</td>\n",
       "      <td>70</td>\n",
       "      <td>1</td>\n",
       "      <td>buick skylark 320</td>\n",
       "    </tr>\n",
       "    <tr>\n",
       "      <th>2</th>\n",
       "      <td>18</td>\n",
       "      <td>8</td>\n",
       "      <td>318</td>\n",
       "      <td>150.0</td>\n",
       "      <td>3436</td>\n",
       "      <td>11.0</td>\n",
       "      <td>70</td>\n",
       "      <td>1</td>\n",
       "      <td>plymouth satellite</td>\n",
       "    </tr>\n",
       "    <tr>\n",
       "      <th>3</th>\n",
       "      <td>16</td>\n",
       "      <td>8</td>\n",
       "      <td>304</td>\n",
       "      <td>150.0</td>\n",
       "      <td>3433</td>\n",
       "      <td>12.0</td>\n",
       "      <td>70</td>\n",
       "      <td>1</td>\n",
       "      <td>amc rebel sst</td>\n",
       "    </tr>\n",
       "    <tr>\n",
       "      <th>4</th>\n",
       "      <td>17</td>\n",
       "      <td>8</td>\n",
       "      <td>302</td>\n",
       "      <td>140.0</td>\n",
       "      <td>3449</td>\n",
       "      <td>10.5</td>\n",
       "      <td>70</td>\n",
       "      <td>1</td>\n",
       "      <td>ford torino</td>\n",
       "    </tr>\n",
       "  </tbody>\n",
       "</table>\n",
       "</div>"
      ],
      "text/plain": [
       "   mpg  cylinders  displacement horsepower  weight  acceleration  model_year  \\\n",
       "0   18          8           307      130.0    3504          12.0          70   \n",
       "1   15          8           350      165.0    3693          11.5          70   \n",
       "2   18          8           318      150.0    3436          11.0          70   \n",
       "3   16          8           304      150.0    3433          12.0          70   \n",
       "4   17          8           302      140.0    3449          10.5          70   \n",
       "\n",
       "   origin                   car_name  \n",
       "0       1  chevrolet chevelle malibu  \n",
       "1       1          buick skylark 320  \n",
       "2       1         plymouth satellite  \n",
       "3       1              amc rebel sst  \n",
       "4       1                ford torino  "
      ]
     },
     "execution_count": 99,
     "metadata": {},
     "output_type": "execute_result"
    }
   ],
   "source": [
    "#Read in data from source \n",
    "df_raw = pd.read_table(\"assets/auto-mpg2.data\", delim_whitespace=True)\n",
    "df_raw.head()"
   ]
  },
  {
   "cell_type": "code",
   "execution_count": 100,
   "metadata": {
    "collapsed": false
   },
   "outputs": [
    {
     "name": "stdout",
     "output_type": "stream",
     "text": [
      "mpg             398\n",
      "cylinders       398\n",
      "displacement    398\n",
      "horsepower      398\n",
      "weight          398\n",
      "acceleration    398\n",
      "model_year      398\n",
      "origin          398\n",
      "car_name        398\n",
      "dtype: int64\n"
     ]
    }
   ],
   "source": [
    "# converting horsepower from string to numeric\n",
    "df_raw.horsepower=pd.to_numeric(df_raw.horsepower, errors='coerce')\n",
    "# filling missing horsepower data elements using median and not mean because of multiple outliers \n",
    "df_raw=df_raw.fillna(df_raw.median())\n",
    "# create final dataframe after clen up and confirm no issues with missing data\n",
    "df=df_raw.dropna()\n",
    "print(df.count())"
   ]
  },
  {
   "cell_type": "markdown",
   "metadata": {},
   "source": [
    "# Simple Linear Regression "
   ]
  },
  {
   "cell_type": "code",
   "execution_count": 101,
   "metadata": {
    "collapsed": true
   },
   "outputs": [],
   "source": [
    "from sklearn import linear_model"
   ]
  },
  {
   "cell_type": "code",
   "execution_count": 103,
   "metadata": {
    "collapsed": false
   },
   "outputs": [
    {
     "name": "stdout",
     "output_type": "stream",
     "text": [
      "Intercept:\n",
      "46.3173644203\n",
      "Coefficient:\n",
      "[-0.00767661]\n",
      "R-Squared:\n",
      "0.691792980034\n"
     ]
    }
   ],
   "source": [
    "# Initialize model\n",
    "regression_model = linear_model.LinearRegression()\n",
    "\n",
    "# Train the model using the auto-mpg data\n",
    "regression_model.fit(X = pd.DataFrame(df[\"weight\"]),y = df[\"mpg\"])\n",
    "\n",
    "# Check trained model y-intercept\n",
    "print(\"Intercept:\")\n",
    "print(regression_model.intercept_)\n",
    "\n",
    "# Check trained model coefficients\n",
    "print(\"Coefficient:\")\n",
    "print(regression_model.coef_)\n",
    "\n",
    "print(\"R-Squared:\")\n",
    "print(regression_model.score(X = pd.DataFrame(df[\"weight\"]),y = df[\"mpg\"]))"
   ]
  },
  {
   "cell_type": "code",
   "execution_count": 104,
   "metadata": {
    "collapsed": false
   },
   "outputs": [
    {
     "name": "stdout",
     "output_type": "stream",
     "text": [
      "count    3.980000e+02\n",
      "mean     3.329553e-15\n",
      "std      4.339153e+00\n",
      "min     -1.201224e+01\n",
      "25%     -2.800761e+00\n",
      "50%     -3.509878e-01\n",
      "75%      2.114290e+00\n",
      "max      1.648028e+01\n",
      "Name: mpg, dtype: float64\n",
      "Manual R-Squared:\n",
      "0.6917929800341576\n"
     ]
    }
   ],
   "source": [
    "# manually calculate R-Squared\n",
    "\n",
    "train_prediction = regression_model.predict(X = pd.DataFrame(df[\"weight\"]))\n",
    "\n",
    "# Actual - prediction = residuals\n",
    "residuals = df[\"mpg\"] - train_prediction\n",
    "\n",
    "print(residuals.describe())\n",
    "\n",
    "SSResiduals = (residuals**2).sum()\n",
    "\n",
    "SSTotal = ((df[\"mpg\"] - df[\"mpg\"].mean())**2).sum()\n",
    "\n",
    "# R-squared\n",
    "print(\"Manual R-Squared:\")\n",
    "print(1 - (SSResiduals/SSTotal))"
   ]
  },
  {
   "cell_type": "code",
   "execution_count": 105,
   "metadata": {
    "collapsed": false
   },
   "outputs": [
    {
     "data": {
      "text/plain": [
       "[<matplotlib.lines.Line2D at 0xc5069b0>]"
      ]
     },
     "execution_count": 105,
     "metadata": {},
     "output_type": "execute_result"
    },
    {
     "data": {
      "image/png": "[encoded data removed]",
      "text/plain": [
       "<matplotlib.figure.Figure at 0xc545ba8>"
      ]
     },
     "metadata": {},
     "output_type": "display_data"
    }
   ],
   "source": [
    "df.plot(kind=\"scatter\",x=\"weight\",y=\"mpg\",figsize=(9,9),color=\"black\")\n",
    "\n",
    "# Plot regression line\n",
    "plt.plot(df[\"weight\"],      \n",
    "         train_prediction,  \n",
    "         color=\"blue\")"
   ]
  },
  {
   "cell_type": "code",
   "execution_count": 25,
   "metadata": {
    "collapsed": false
   },
   "outputs": [
    {
     "data": {
      "text/plain": [
       "((array([-2.9218026 , -2.63365901, -2.47116016, -2.35569541, -2.26506662,\n",
       "         -2.18993277, -2.12544338, -2.06874358, -2.01800561, -1.97198606,\n",
       "         -1.92979922, -1.89079106, -1.8544643 , -1.82043173, -1.78838568,\n",
       "         -1.75807748, -1.72930318, -1.70189331, -1.67570551, -1.65061892,\n",
       "         -1.62653011, -1.60334977, -1.58100027, -1.55941369, -1.53853025,\n",
       "         -1.51829701, -1.49866692, -1.47959792, -1.46105224, -1.4429959 ,\n",
       "         -1.42539813, -1.40823104, -1.39146921, -1.37508946, -1.35907055,\n",
       "         -1.34339299, -1.32803884, -1.31299155, -1.2982358 , -1.28375744,\n",
       "         -1.26954329, -1.25558111, -1.2418595 , -1.22836781, -1.21509608,\n",
       "         -1.202035  , -1.18917582, -1.17651032, -1.1640308 , -1.15172997,\n",
       "         -1.13960098, -1.12763737, -1.11583302, -1.10418213, -1.09267923,\n",
       "         -1.08131913, -1.07009688, -1.05900781, -1.04804745, -1.03721157,\n",
       "         -1.02649613, -1.01589727, -1.00541132, -0.99503477, -0.98476427,\n",
       "         -0.97459661, -0.96452872, -0.95455766, -0.94468061, -0.93489487,\n",
       "         -0.92519785, -0.91558705, -0.9060601 , -0.89661467, -0.88724857,\n",
       "         -0.87795966, -0.8687459 , -0.8596053 , -0.85053597, -0.84153606,\n",
       "         -0.8326038 , -0.82373748, -0.81493545, -0.80619611, -0.79751792,\n",
       "         -0.78889937, -0.78033903, -0.77183549, -0.76338741, -0.75499346,\n",
       "         -0.74665237, -0.7383629 , -0.73012387, -0.7219341 , -0.71379247,\n",
       "         -0.70569788, -0.69764927, -0.68964561, -0.68168587, -0.6737691 ,\n",
       "         -0.66589433, -0.65806064, -0.65026713, -0.64251291, -0.63479714,\n",
       "         -0.62711897, -0.6194776 , -0.61187223, -0.60430209, -0.59676643,\n",
       "         -0.5892645 , -0.58179558, -0.57435899, -0.56695402, -0.55958001,\n",
       "         -0.5522363 , -0.54492226, -0.53763725, -0.53038067, -0.5231519 ,\n",
       "         -0.51595037, -0.5087755 , -0.50162673, -0.4945035 , -0.48740527,\n",
       "         -0.48033152, -0.47328172, -0.46625537, -0.45925196, -0.452271  ,\n",
       "         -0.44531202, -0.43837453, -0.43145808, -0.42456221, -0.41768646,\n",
       "         -0.41083041, -0.40399362, -0.39717565, -0.3903761 , -0.38359455,\n",
       "         -0.3768306 , -0.37008384, -0.36335389, -0.35664035, -0.34994285,\n",
       "         -0.34326102, -0.33659447, -0.32994285, -0.32330579, -0.31668294,\n",
       "         -0.31007396, -0.30347849, -0.2968962 , -0.29032675, -0.2837698 ,\n",
       "         -0.27722503, -0.27069212, -0.26417073, -0.25766056, -0.2511613 ,\n",
       "         -0.24467262, -0.23819424, -0.23172583, -0.2252671 , -0.21881776,\n",
       "         -0.21237751, -0.20594605, -0.1995231 , -0.19310837, -0.18670158,\n",
       "         -0.18030244, -0.17391068, -0.16752601, -0.16114817, -0.15477687,\n",
       "         -0.14841185, -0.14205284, -0.13569957, -0.12935177, -0.12300917,\n",
       "         -0.11667153, -0.11033856, -0.10401002, -0.09768564, -0.09136517,\n",
       "         -0.08504834, -0.0787349 , -0.07242461, -0.06611719, -0.0598124 ,\n",
       "         -0.05350999, -0.04720971, -0.0409113 , -0.03461451, -0.02831909,\n",
       "         -0.0220248 , -0.01573137, -0.00943858, -0.00314615,  0.00314615,\n",
       "          0.00943858,  0.01573137,  0.0220248 ,  0.02831909,  0.03461451,\n",
       "          0.0409113 ,  0.04720971,  0.05350999,  0.0598124 ,  0.06611719,\n",
       "          0.07242461,  0.0787349 ,  0.08504834,  0.09136517,  0.09768564,\n",
       "          0.10401002,  0.11033856,  0.11667153,  0.12300917,  0.12935177,\n",
       "          0.13569957,  0.14205284,  0.14841185,  0.15477687,  0.16114817,\n",
       "          0.16752601,  0.17391068,  0.18030244,  0.18670158,  0.19310837,\n",
       "          0.1995231 ,  0.20594605,  0.21237751,  0.21881776,  0.2252671 ,\n",
       "          0.23172583,  0.23819424,  0.24467262,  0.2511613 ,  0.25766056,\n",
       "          0.26417073,  0.27069212,  0.27722503,  0.2837698 ,  0.29032675,\n",
       "          0.2968962 ,  0.30347849,  0.31007396,  0.31668294,  0.32330579,\n",
       "          0.32994285,  0.33659447,  0.34326102,  0.34994285,  0.35664035,\n",
       "          0.36335389,  0.37008384,  0.3768306 ,  0.38359455,  0.3903761 ,\n",
       "          0.39717565,  0.40399362,  0.41083041,  0.41768646,  0.42456221,\n",
       "          0.43145808,  0.43837453,  0.44531202,  0.452271  ,  0.45925196,\n",
       "          0.46625537,  0.47328172,  0.48033152,  0.48740527,  0.4945035 ,\n",
       "          0.50162673,  0.5087755 ,  0.51595037,  0.5231519 ,  0.53038067,\n",
       "          0.53763725,  0.54492226,  0.5522363 ,  0.55958001,  0.56695402,\n",
       "          0.57435899,  0.58179558,  0.5892645 ,  0.59676643,  0.60430209,\n",
       "          0.61187223,  0.6194776 ,  0.62711897,  0.63479714,  0.64251291,\n",
       "          0.65026713,  0.65806064,  0.66589433,  0.6737691 ,  0.68168587,\n",
       "          0.68964561,  0.69764927,  0.70569788,  0.71379247,  0.7219341 ,\n",
       "          0.73012387,  0.7383629 ,  0.74665237,  0.75499346,  0.76338741,\n",
       "          0.77183549,  0.78033903,  0.78889937,  0.79751792,  0.80619611,\n",
       "          0.81493545,  0.82373748,  0.8326038 ,  0.84153606,  0.85053597,\n",
       "          0.8596053 ,  0.8687459 ,  0.87795966,  0.88724857,  0.89661467,\n",
       "          0.9060601 ,  0.91558705,  0.92519785,  0.93489487,  0.94468061,\n",
       "          0.95455766,  0.96452872,  0.97459661,  0.98476427,  0.99503477,\n",
       "          1.00541132,  1.01589727,  1.02649613,  1.03721157,  1.04804745,\n",
       "          1.05900781,  1.07009688,  1.08131913,  1.09267923,  1.10418213,\n",
       "          1.11583302,  1.12763737,  1.13960098,  1.15172997,  1.1640308 ,\n",
       "          1.17651032,  1.18917582,  1.202035  ,  1.21509608,  1.22836781,\n",
       "          1.2418595 ,  1.25558111,  1.26954329,  1.28375744,  1.2982358 ,\n",
       "          1.31299155,  1.32803884,  1.34339299,  1.35907055,  1.37508946,\n",
       "          1.39146921,  1.40823104,  1.42539813,  1.4429959 ,  1.46105224,\n",
       "          1.47959792,  1.49866692,  1.51829701,  1.53853025,  1.55941369,\n",
       "          1.58100027,  1.60334977,  1.62653011,  1.65061892,  1.67570551,\n",
       "          1.70189331,  1.72930318,  1.75807748,  1.78838568,  1.82043173,\n",
       "          1.8544643 ,  1.89079106,  1.92979922,  1.97198606,  2.01800561,\n",
       "          2.06874358,  2.12544338,  2.18993277,  2.26506662,  2.35569541,\n",
       "          2.47116016,  2.63365901,  2.9218026 ]),\n",
       "  array([ -1.20122446e+01,  -9.58439517e+00,  -9.43086297e+00,\n",
       "          -8.99018713e+00,  -8.82237008e+00,  -8.62734576e+00,\n",
       "          -8.22923042e+00,  -7.83208739e+00,  -7.19026515e+00,\n",
       "          -7.09717351e+00,  -7.07462984e+00,  -7.02244810e+00,\n",
       "          -6.90729895e+00,  -6.88582366e+00,  -6.49635724e+00,\n",
       "          -6.34078434e+00,  -6.27529008e+00,  -6.23078495e+00,\n",
       "          -6.13507041e+00,  -6.05470908e+00,  -6.01428534e+00,\n",
       "          -5.93188332e+00,  -5.91069011e+00,  -5.83208739e+00,\n",
       "          -5.80186710e+00,  -5.75123990e+00,  -5.70974778e+00,\n",
       "          -5.70819325e+00,  -5.61102023e+00,  -5.57924541e+00,\n",
       "          -5.45797418e+00,  -5.41035999e+00,  -5.34797480e+00,\n",
       "          -5.30959175e+00,  -5.30084676e+00,  -5.24817886e+00,\n",
       "          -5.23846156e+00,  -5.22456681e+00,  -5.21280882e+00,\n",
       "          -5.20518024e+00,  -5.15343663e+00,  -5.12632542e+00,\n",
       "          -5.04751862e+00,  -5.04139655e+00,  -4.99689142e+00,\n",
       "          -4.98970097e+00,  -4.97123868e+00,  -4.85817825e+00,\n",
       "          -4.83004669e+00,  -4.82489693e+00,  -4.76911997e+00,\n",
       "          -4.61247870e+00,  -4.49169363e+00,  -4.35866441e+00,\n",
       "          -4.30594849e+00,  -4.29255794e+00,  -4.27529008e+00,\n",
       "          -4.25226025e+00,  -4.22048543e+00,  -4.21387720e+00,\n",
       "          -4.12885227e+00,  -4.10844535e+00,  -4.07977960e+00,\n",
       "          -4.03996807e+00,  -3.98503737e+00,  -3.96560276e+00,\n",
       "          -3.96356207e+00,  -3.95511722e+00,  -3.94772269e+00,\n",
       "          -3.94012410e+00,  -3.93698505e+00,  -3.91750241e+00,\n",
       "          -3.76192952e+00,  -3.66320196e+00,  -3.61382917e+00,\n",
       "          -3.60888347e+00,  -3.56430033e+00,  -3.51326499e+00,\n",
       "          -3.41959113e+00,  -3.35621558e+00,  -3.26123929e+00,\n",
       "          -3.24711049e+00,  -3.21028197e+00,  -3.19648329e+00,\n",
       "          -3.16781754e+00,  -3.16116127e+00,  -3.08541552e+00,\n",
       "          -3.07667053e+00,  -3.07569822e+00,  -3.07152077e+00,\n",
       "          -3.05879046e+00,  -3.00660873e+00,  -2.98513343e+00,\n",
       "          -2.96764345e+00,  -2.96618498e+00,  -2.96618498e+00,\n",
       "          -2.92984263e+00,  -2.92984263e+00,  -2.84073631e+00,\n",
       "          -2.80755105e+00,  -2.78039181e+00,  -2.72451878e+00,\n",
       "          -2.70770709e+00,  -2.70304349e+00,  -2.68360888e+00,\n",
       "          -2.66776950e+00,  -2.66116127e+00,  -2.65863442e+00,\n",
       "          -2.63657691e+00,  -2.62693762e+00,  -2.56952811e+00,\n",
       "          -2.55417489e+00,  -2.50452000e+00,  -2.44874304e+00,\n",
       "          -2.44777073e+00,  -2.44777073e+00,  -2.44563397e+00,\n",
       "          -2.43591667e+00,  -2.42474090e+00,  -2.41346906e+00,\n",
       "          -2.35401885e+00,  -2.32280821e+00,  -2.27544612e+00,\n",
       "          -2.26090917e+00,  -2.21484951e+00,  -2.18871061e+00,\n",
       "          -2.17144275e+00,  -2.13604272e+00,  -2.12273019e+00,\n",
       "          -2.11791055e+00,  -2.04506979e+00,  -2.04012410e+00,\n",
       "          -2.01992125e+00,  -2.00456803e+00,  -1.98814644e+00,\n",
       "          -1.96919799e+00,  -1.96258976e+00,  -1.95017152e+00,\n",
       "          -1.94053224e+00,  -1.89860200e+00,  -1.89758165e+00,\n",
       "          -1.85861638e+00,  -1.84326316e+00,  -1.83196134e+00,\n",
       "          -1.80342164e+00,  -1.79569700e+00,  -1.77426973e+00,\n",
       "          -1.76397021e+00,  -1.76241567e+00,  -1.70974778e+00,\n",
       "          -1.70673478e+00,  -1.70518024e+00,  -1.69546294e+00,\n",
       "          -1.67845912e+00,  -1.59765967e+00,  -1.59100340e+00,\n",
       "          -1.57516403e+00,  -1.57312334e+00,  -1.50199315e+00,\n",
       "          -1.46116127e+00,  -1.43999805e+00,  -1.41852276e+00,\n",
       "          -1.29210177e+00,  -1.28850654e+00,  -1.26274579e+00,\n",
       "          -1.12885227e+00,  -1.07929344e+00,  -1.05323256e+00,\n",
       "          -1.02448879e+00,  -1.01982519e+00,  -9.91645598e-01,\n",
       "          -9.37519236e-01,  -8.89808975e-01,  -8.81160052e-01,\n",
       "          -8.73969598e-01,  -8.24974951e-01,  -8.13138940e-01,\n",
       "          -8.05462329e-01,  -7.83452845e-01,  -7.57313945e-01,\n",
       "          -7.53280594e-01,  -6.51443971e-01,  -6.20641466e-01,\n",
       "          -6.17628461e-01,  -6.00642688e-01,  -5.85571555e-01,\n",
       "          -5.81772259e-01,  -5.07533007e-01,  -4.92713976e-01,\n",
       "          -4.73327405e-01,  -4.65164638e-01,  -4.28726215e-01,\n",
       "          -4.27801934e-01,  -4.16812185e-01,  -4.04646053e-01,\n",
       "          -4.02635347e-01,  -4.01615001e-01,  -3.96075148e-01,\n",
       "          -3.54000806e-01,  -3.47974796e-01,  -3.36985046e-01,\n",
       "          -3.23876587e-01,  -2.82966688e-01,  -2.23108343e-01,\n",
       "          -1.94442594e-01,  -1.35022373e-01,  -1.26859606e-01,\n",
       "          -1.21991932e-01,  -1.10389975e-01,  -7.26371792e-02,\n",
       "          -1.88528762e-02,  -6.51266120e-03,  -2.60536109e-03,\n",
       "           1.85578607e-02,   1.94521557e-02,   3.58557076e-02,\n",
       "           7.19640111e-02,   7.60453945e-02,   9.32352372e-02,\n",
       "           1.60818225e-01,   1.63879263e-01,   1.75685289e-01,\n",
       "           2.08432421e-01,   2.19704257e-01,   2.25730267e-01,\n",
       "           2.25730267e-01,   2.29577596e-01,   2.48370006e-01,\n",
       "           3.03612779e-01,   3.31696306e-01,   3.60109953e-01,\n",
       "           3.61964622e-01,   3.75103067e-01,   4.25418194e-01,\n",
       "           4.59089607e-01,   4.62150644e-01,   4.62150644e-01,\n",
       "           4.75025049e-01,   5.01115916e-01,   5.10503098e-01,\n",
       "           5.13408099e-01,   5.39546999e-01,   5.43628383e-01,\n",
       "           5.48730112e-01,   5.56814860e-01,   5.97802777e-01,\n",
       "           6.28605282e-01,   6.75151099e-01,   7.38604672e-01,\n",
       "           7.67174355e-01,   7.84178175e-01,   8.04585092e-01,\n",
       "           8.34757343e-01,   8.81303160e-01,   9.48886149e-01,\n",
       "           9.51022905e-01,   9.59089607e-01,   9.63801244e-01,\n",
       "           9.67882628e-01,   9.89387909e-01,   9.94411620e-01,\n",
       "           1.03549560e+00,   1.05888554e+00,   1.06500761e+00,\n",
       "           1.10659580e+00,   1.15571650e+00,   1.20948275e+00,\n",
       "           1.24273409e+00,   1.28405212e+00,   1.28813351e+00,\n",
       "           1.29025222e+00,   1.34457071e+00,   1.34480477e+00,\n",
       "           1.42230912e+00,   1.47147785e+00,   1.57918445e+00,\n",
       "           1.65163511e+00,   1.65367580e+00,   1.67816410e+00,\n",
       "           1.68020480e+00,   1.70147602e+00,   1.70993892e+00,\n",
       "           1.72070656e+00,   1.75477417e+00,   1.83373700e+00,\n",
       "           1.83483536e+00,   1.84763175e+00,   1.84967244e+00,\n",
       "           1.85296753e+00,   1.89728663e+00,   1.95102291e+00,\n",
       "           1.99135058e+00,   2.00679987e+00,   2.05704892e+00,\n",
       "           2.06607599e+00,   2.07793005e+00,   2.10037766e+00,\n",
       "           2.11364215e+00,   2.11450646e+00,   2.24059733e+00,\n",
       "           2.29346929e+00,   2.29825895e+00,   2.38397411e+00,\n",
       "           2.40343870e+00,   2.40957882e+00,   2.42847923e+00,\n",
       "           2.50320464e+00,   2.52317343e+00,   2.57918445e+00,\n",
       "           2.75502627e+00,   2.76678426e+00,   2.94394046e+00,\n",
       "           2.96074021e+00,   3.02070656e+00,   3.03138423e+00,\n",
       "           3.04265607e+00,   3.07714376e+00,   3.11160146e+00,\n",
       "           3.11582694e+00,   3.27015737e+00,   3.28675306e+00,\n",
       "           3.30045568e+00,   3.32863527e+00,   3.34408455e+00,\n",
       "           3.43260865e+00,   3.49441162e+00,   3.53954700e+00,\n",
       "           3.60053369e+00,   3.60053369e+00,   3.66207263e+00,\n",
       "           3.68953201e+00,   3.69244895e+00,   3.69720862e+00,\n",
       "           3.72023845e+00,   3.78130316e+00,   3.80618766e+00,\n",
       "           3.83664200e+00,   3.94896417e+00,   4.05265546e+00,\n",
       "           4.08334385e+00,   4.12266923e+00,   4.21202765e+00,\n",
       "           4.29392546e+00,   4.34794382e+00,   4.44990649e+00,\n",
       "           4.49657836e+00,   4.68734722e+00,   4.77117772e+00,\n",
       "           4.77905840e+00,   4.88232351e+00,   4.91662517e+00,\n",
       "           5.37102168e+00,   5.38632687e+00,   5.51050310e+00,\n",
       "           5.51705136e+00,   5.56301495e+00,   5.84394046e+00,\n",
       "           5.99237093e+00,   5.99543197e+00,   6.06811668e+00,\n",
       "           6.14041131e+00,   6.14080140e+00,   6.18106911e+00,\n",
       "           6.22777096e+00,   6.25508624e+00,   6.26411332e+00,\n",
       "           6.38171130e+00,   6.57808609e+00,   6.60956077e+00,\n",
       "           6.62141483e+00,   6.65697090e+00,   6.76717436e+00,\n",
       "           6.80405090e+00,   6.89020419e+00,   6.99747266e+00,\n",
       "           7.07627945e+00,   7.11968621e+00,   7.33381502e+00,\n",
       "           7.87416074e+00,   7.87620143e+00,   7.99543197e+00,\n",
       "           8.63161829e+00,   8.64072338e+00,   8.66921505e+00,\n",
       "           8.72157087e+00,   8.87800807e+00,   8.97321841e+00,\n",
       "           9.36750448e+00,   1.06802828e+01,   1.16412876e+01,\n",
       "           1.20207066e+01,   1.24843642e+01,   1.27286353e+01,\n",
       "           1.39883676e+01,   1.40338150e+01,   1.48276149e+01,\n",
       "           1.50075201e+01,   1.64802828e+01])),\n",
       " (4.2937854351503839, 4.0200141014456117e-15, 0.98465575650582027))"
      ]
     },
     "execution_count": 25,
     "metadata": {},
     "output_type": "execute_result"
    },
    {
     "data": {
      "image/png": "[encoded data removed]",
      "text/plain": [
       "<matplotlib.figure.Figure at 0xbf6e550>"
      ]
     },
     "metadata": {},
     "output_type": "display_data"
    }
   ],
   "source": [
    "\"\"\" \n",
    "Q-Q plot\n",
    "Residuals appear to follow a slightly non-linear pattern: \n",
    "the residuals are a bit away from the normality line on each end. \n",
    "This is an indication that simple straight line might not be sufficient \n",
    "to fully describe the relationship between weight and mpg\n",
    "\"\"\"\n",
    "\n",
    "plt.figure(figsize=(9,9))\n",
    "\n",
    "stats.probplot(residuals, dist=\"norm\", plot=plt)"
   ]
  },
  {
   "cell_type": "code",
   "execution_count": 106,
   "metadata": {
    "collapsed": false
   },
   "outputs": [
    {
     "name": "stdout",
     "output_type": "stream",
     "text": [
      "MSE:\n",
      "18.7809397346\n",
      "RMSE:\n",
      "4.94796050899\n"
     ]
    }
   ],
   "source": [
    "# Root Mean Square Error\n",
    "rmse = mean_squared_error(df[\"mpg\"],train_prediction)**0.5\n",
    "\n",
    "print(\"MSE:\")\n",
    "print(mean_squared_error(df[\"mpg\"], train_prediction))\n",
    "print(\"RMSE:\")\n",
    "print(RMSE)"
   ]
  },
  {
   "cell_type": "code",
   "execution_count": 124,
   "metadata": {
    "collapsed": false
   },
   "outputs": [
    {
     "name": "stdout",
     "output_type": "stream",
     "text": [
      "Intercept:\n",
      "35.1747501543\n",
      "Coefficient:\n",
      "[-0.06028241]\n",
      "R-Squared:\n",
      "0.646742183426\n"
     ]
    }
   ],
   "source": [
    "#displacement\n",
    "# Initialize model\n",
    "regression_model_d = linear_model.LinearRegression()\n",
    "\n",
    "# Train the model using the auto-mpg data\n",
    "regression_model_d.fit(X = pd.DataFrame(df[\"displacement\"]),y = df[\"mpg\"])\n",
    "\n",
    "# Check trained model y-intercept\n",
    "print(\"Intercept:\")\n",
    "print(regression_model_d.intercept_)\n",
    "\n",
    "# Check trained model coefficients\n",
    "print(\"Coefficient:\")\n",
    "print(regression_model_d.coef_)\n",
    "\n",
    "print(\"R-Squared:\")\n",
    "print(regression_model_d.score(X = pd.DataFrame(df[\"displacement\"]),y = df[\"mpg\"]))"
   ]
  },
  {
   "cell_type": "code",
   "execution_count": 44,
   "metadata": {
    "collapsed": false
   },
   "outputs": [
    {
     "data": {
      "text/plain": [
       "[<matplotlib.lines.Line2D at 0xc49c748>]"
      ]
     },
     "execution_count": 44,
     "metadata": {},
     "output_type": "execute_result"
    },
    {
     "data": {
      "image/png": "[encoded data removed]",
      "text/plain": [
       "<matplotlib.figure.Figure at 0xc3ca0f0>"
      ]
     },
     "metadata": {},
     "output_type": "display_data"
    }
   ],
   "source": [
    "train_prediction_d = regression_model_d.predict(X = pd.DataFrame(df[\"displacement\"]))\n",
    "\n",
    "df.plot(kind=\"scatter\",x=\"displacement\",y=\"mpg\",figsize=(9,9),color=\"black\")\n",
    "\n",
    "# Plot regression line\n",
    "plt.plot(df[\"displacement\"],      \n",
    "         train_prediction_d,  \n",
    "         color=\"blue\")"
   ]
  },
  {
   "cell_type": "code",
   "execution_count": 134,
   "metadata": {
    "collapsed": false
   },
   "outputs": [
    {
     "name": "stdout",
     "output_type": "stream",
     "text": [
      "Intercept:\n",
      "40.0113178711\n",
      "Coefficient:\n",
      "[-0.1581602]\n",
      "R-Squared:\n",
      "0.598229859666\n"
     ]
    }
   ],
   "source": [
    "#horsepower\n",
    "# Initialize model\n",
    "regression_model_h = linear_model.LinearRegression()\n",
    "\n",
    "# Train the model using the auto-mpg data\n",
    "regression_model_h.fit(X = pd.DataFrame(df[\"horsepower\"]),y = df[\"mpg\"])\n",
    "\n",
    "# Check trained model y-intercept\n",
    "print(\"Intercept:\")\n",
    "print(regression_model_h.intercept_)\n",
    "\n",
    "# Check trained model coefficients\n",
    "print(\"Coefficient:\")\n",
    "print(regression_model_h.coef_)\n",
    "\n",
    "print(\"R-Squared:\")\n",
    "print(regression_model_h.score(X = pd.DataFrame(df[\"horsepower\"]),y = df[\"mpg\"]))"
   ]
  },
  {
   "cell_type": "code",
   "execution_count": 46,
   "metadata": {
    "collapsed": false
   },
   "outputs": [
    {
     "data": {
      "text/plain": [
       "[<matplotlib.lines.Line2D at 0xc506828>]"
      ]
     },
     "execution_count": 46,
     "metadata": {},
     "output_type": "execute_result"
    },
    {
     "data": {
      "image/png": "[encoded data removed]",
      "text/plain": [
       "<matplotlib.figure.Figure at 0xb21d1d0>"
      ]
     },
     "metadata": {},
     "output_type": "display_data"
    }
   ],
   "source": [
    "train_prediction_h = regression_model_h.predict(X = pd.DataFrame(df[\"horsepower\"]))\n",
    "\n",
    "df.plot(kind=\"scatter\",x=\"horsepower\",y=\"mpg\",figsize=(9,9),color=\"black\")\n",
    "\n",
    "# Plot regression line\n",
    "plt.plot(df[\"horsepower\"],      \n",
    "         train_prediction_h,  \n",
    "         color=\"blue\")"
   ]
  },
  {
   "cell_type": "markdown",
   "metadata": {},
   "source": [
    "# Polynomial Regresseion"
   ]
  },
  {
   "cell_type": "code",
   "execution_count": 126,
   "metadata": {
    "collapsed": false
   },
   "outputs": [
    {
     "name": "stdout",
     "output_type": "stream",
     "text": [
      "Intercept:\n",
      "62.516652222\n",
      "Coefficients:\n",
      "[ -1.86423243e-02   1.71652679e-06]\n",
      "R-Squared:\n",
      "0.714788125827\n"
     ]
    }
   ],
   "source": [
    "# Initialize model\n",
    "poly_model = linear_model.LinearRegression()\n",
    "\n",
    "# Make a DataFrame of predictor variables\n",
    "predictors = pd.DataFrame([df[\"weight\"],           # Include weight\n",
    "                           df[\"weight\"]**2]).T     # Include weight squared\n",
    "\n",
    "# Train the model using the new_cars data\n",
    "poly_model.fit(X = predictors, \n",
    "               y = df[\"mpg\"])\n",
    "\n",
    "# Check trained model y-intercept\n",
    "print(\"Intercept:\")\n",
    "print(poly_model.intercept_)\n",
    "\n",
    "# Check trained model coefficients\n",
    "print(\"Coefficients:\")\n",
    "print(poly_model.coef_)\n",
    "\n",
    "# Check R-squared\n",
    "print(\"R-Squared:\")\n",
    "print(poly_model.score(X = predictors, y = df[\"mpg\"]))"
   ]
  },
  {
   "cell_type": "code",
   "execution_count": 30,
   "metadata": {
    "collapsed": false
   },
   "outputs": [
    {
     "data": {
      "text/plain": [
       "[<matplotlib.lines.Line2D at 0xb41c9b0>]"
      ]
     },
     "execution_count": 30,
     "metadata": {},
     "output_type": "execute_result"
    },
    {
     "data": {
      "image/png": "[encoded data removed]",
      "text/plain": [
       "<matplotlib.figure.Figure at 0xbf8c160>"
      ]
     },
     "metadata": {},
     "output_type": "display_data"
    }
   ],
   "source": [
    "# Plot the curve from 1500 to 5500\n",
    "poly_line_range = np.arange(1500, 5500, 100)\n",
    "\n",
    "# Get first and second order predictors from range\n",
    "poly_predictors = pd.DataFrame([poly_line_range,\n",
    "                               poly_line_range**2]).T\n",
    "\n",
    "# Get corresponding y values from the model\n",
    "y_values = poly_model.predict(X = poly_predictors)\n",
    "\n",
    "df.plot(kind=\"scatter\",\n",
    "           x=\"weight\",\n",
    "           y=\"mpg\",\n",
    "           figsize=(9,9),\n",
    "           color=\"black\")\n",
    "\n",
    "# Plot curve line\n",
    "plt.plot(poly_line_range,   \n",
    "         y_values,          \n",
    "         color=\"blue\")"
   ]
  },
  {
   "cell_type": "code",
   "execution_count": 112,
   "metadata": {
    "collapsed": false
   },
   "outputs": [
    {
     "name": "stdout",
     "output_type": "stream",
     "text": [
      "MSE:\n",
      "17.3797047875\n",
      "RMSE:\n",
      "4.16889731074\n"
     ]
    }
   ],
   "source": [
    "preds = poly_model.predict(X=predictors)\n",
    "\n",
    "print(\"MSE:\")\n",
    "print(mean_squared_error(df[\"mpg\"], preds))\n",
    "print(\"RMSE:\")\n",
    "print(mean_squared_error(df[\"mpg\"],preds)**0.5)"
   ]
  },
  {
   "cell_type": "code",
   "execution_count": 135,
   "metadata": {
    "collapsed": false
   },
   "outputs": [
    {
     "name": "stdout",
     "output_type": "stream",
     "text": [
      "Intercept:\n",
      "56.7812081604\n",
      "Coefficients:\n",
      "[-0.46256338  0.00121432]\n",
      "R-Squared:\n",
      "0.676573885233\n"
     ]
    }
   ],
   "source": [
    "#horsepower\n",
    "# Initialize model\n",
    "poly_model2 = linear_model.LinearRegression()\n",
    "\n",
    "# Make a DataFrame of predictor variables\n",
    "predictors2 = pd.DataFrame([df[\"horsepower\"],           # Include weight\n",
    "                           df[\"horsepower\"]**2]).T     # Include weight squared\n",
    "\n",
    "# Train the model using the new_cars data\n",
    "poly_model2.fit(X = predictors2, \n",
    "               y = df[\"mpg\"])\n",
    "\n",
    "# Check trained model y-intercept\n",
    "print(\"Intercept:\")\n",
    "print(poly_model2.intercept_)\n",
    "\n",
    "# Check trained model coefficients\n",
    "print(\"Coefficients:\")\n",
    "print(poly_model2.coef_)\n",
    "\n",
    "# Check R-squared\n",
    "print(\"R-Squared:\")\n",
    "print(poly_model2.score(X = predictors2, y = df[\"mpg\"]))"
   ]
  },
  {
   "cell_type": "code",
   "execution_count": 131,
   "metadata": {
    "collapsed": false
   },
   "outputs": [
    {
     "data": {
      "text/plain": [
       "[<matplotlib.lines.Line2D at 0xe1b4cf8>]"
      ]
     },
     "execution_count": 131,
     "metadata": {},
     "output_type": "execute_result"
    },
    {
     "data": {
      "image/png": "[encoded data removed]",
      "text/plain": [
       "<matplotlib.figure.Figure at 0xe1525f8>"
      ]
     },
     "metadata": {},
     "output_type": "display_data"
    }
   ],
   "source": [
    "# Plot the curve from 50 to 250\n",
    "poly_line_range2 = np.arange(50, 250, 10)\n",
    "\n",
    "# Get first and second order predictors from range\n",
    "poly_predictors2 = pd.DataFrame([poly_line_range2,\n",
    "                               poly_line_range2**2]).T\n",
    "\n",
    "# Get corresponding y values from the model\n",
    "y_values = poly_model2.predict(X = poly_predictors2)\n",
    "\n",
    "df.plot(kind=\"scatter\",\n",
    "           x=\"horsepower\",\n",
    "           y=\"mpg\",\n",
    "           figsize=(9,9),\n",
    "           color=\"black\")\n",
    "\n",
    "# Plot curve line\n",
    "plt.plot(poly_line_range2,   \n",
    "         y_values,          \n",
    "         color=\"blue\")"
   ]
  },
  {
   "cell_type": "code",
   "execution_count": 132,
   "metadata": {
    "collapsed": false
   },
   "outputs": [
    {
     "name": "stdout",
     "output_type": "stream",
     "text": [
      "MSE:\n",
      "19.7083323109\n",
      "RMSE:\n",
      "4.43940675213\n"
     ]
    }
   ],
   "source": [
    "preds2 = poly_model2.predict(X=predictors2)\n",
    "\n",
    "print(\"MSE:\")\n",
    "print(mean_squared_error(df[\"mpg\"], preds2))\n",
    "print(\"RMSE:\")\n",
    "print(mean_squared_error(df[\"mpg\"],preds2)**0.5)"
   ]
  },
  {
   "cell_type": "markdown",
   "metadata": {},
   "source": [
    "# Multiple Regression"
   ]
  },
  {
   "cell_type": "code",
   "execution_count": 136,
   "metadata": {
    "collapsed": false
   },
   "outputs": [
    {
     "name": "stdout",
     "output_type": "stream",
     "text": [
      "Intercept:\n",
      "45.8100384797\n",
      "Coefficients:\n",
      "[-0.00593281 -0.04479699]\n",
      "R-Squared:\n",
      "0.704088271106\n",
      "MSE:\n",
      "18.0317124112\n"
     ]
    }
   ],
   "source": [
    "# Weight-Horsepower\n",
    "# Initialize model\n",
    "multi_reg_model = linear_model.LinearRegression()\n",
    "\n",
    "# Train the model using the mtcars data\n",
    "multi_reg_model.fit(X = df.ix[:,[\"weight\",\"horsepower\"]], y = df[\"mpg\"])\n",
    "\n",
    "# Check trained model y-intercept\n",
    "print(\"Intercept:\")\n",
    "print(multi_reg_model.intercept_)\n",
    "\n",
    "# Check trained model coefficients\n",
    "print(\"Coefficients:\")\n",
    "print(multi_reg_model.coef_)\n",
    "\n",
    "# Check R-squared\n",
    "print(\"R-Squared:\")\n",
    "print(multi_reg_model.score(X = df.ix[:,[\"weight\",\"horsepower\"]], y = df[\"mpg\"]))\n",
    "\n",
    "print(\"MSE:\")\n",
    "print(mean_squared_error(df[\"mpg\"], multi_reg_model.predict(df.ix[:,[\"weight\",\"horsepower\"]])))"
   ]
  },
  {
   "cell_type": "code",
   "execution_count": 137,
   "metadata": {
    "collapsed": false
   },
   "outputs": [
    {
     "name": "stdout",
     "output_type": "stream",
     "text": [
      "Intercept:\n",
      "41.399828302\n",
      "Coefficients:\n",
      "[-0.00733564  0.25081589]\n",
      "R-Squared:\n",
      "0.698259506182\n",
      "MSE:\n",
      "18.3868947259\n"
     ]
    }
   ],
   "source": [
    "# Weight-Acceleration\n",
    "# Initialize model\n",
    "multi_reg_model = linear_model.LinearRegression()\n",
    "\n",
    "# Train the model using the mtcars data\n",
    "multi_reg_model.fit(X = df.ix[:,[\"weight\",\"acceleration\"]], y = df[\"mpg\"])\n",
    "\n",
    "# Check trained model y-intercept\n",
    "print(\"Intercept:\")\n",
    "print(multi_reg_model.intercept_)\n",
    "\n",
    "# Check trained model coefficients\n",
    "print(\"Coefficients:\")\n",
    "print(multi_reg_model.coef_)\n",
    "\n",
    "# Check R-squared\n",
    "print(\"R-Squared:\")\n",
    "print(multi_reg_model.score(X = df.ix[:,[\"weight\",\"acceleration\"]], y = df[\"mpg\"]))\n",
    "\n",
    "print(\"MSE:\")\n",
    "print(mean_squared_error(df[\"mpg\"], multi_reg_model.predict(df.ix[:,[\"weight\",\"acceleration\"]])))"
   ]
  },
  {
   "cell_type": "markdown",
   "metadata": {},
   "source": [
    "# Polynomial Regression for Weight-Horsepower"
   ]
  },
  {
   "cell_type": "code",
   "execution_count": 116,
   "metadata": {
    "collapsed": false
   },
   "outputs": [
    {
     "name": "stdout",
     "output_type": "stream",
     "text": [
      "Intercept:\n",
      "65.0366155865\n",
      "Coefficients:\n",
      "[ -1.34560904e-02  -2.01544497e-01   1.36052598e-06   5.26272525e-04]\n",
      "R-Squared\n",
      "0.744883214628\n",
      "RMSE:\n",
      "3.94281965936\n",
      "MSE:\n",
      "15.5458268663\n"
     ]
    }
   ],
   "source": [
    "# Initialize model\n",
    "multi_reg_model_poly = linear_model.LinearRegression()\n",
    "\n",
    "# Include squared terms\n",
    "poly_predictors = pd.DataFrame([df[\"weight\"],\n",
    "                                df[\"horsepower\"],\n",
    "                                df[\"weight\"]**2,\n",
    "                                df[\"horsepower\"]**2]).T\n",
    "\n",
    "# Train the model using the mtcars data\n",
    "multi_reg_model_poly.fit(X = poly_predictors, y = df[\"mpg\"])\n",
    "\n",
    "print(\"Intercept:\")\n",
    "print(multi_reg_model_poly.intercept_)\n",
    "print(\"Coefficients:\")\n",
    "print(multi_reg_model_poly.coef_)\n",
    "\n",
    "# Check R-squared\n",
    "print(\"R-Squared\")\n",
    "print( multi_reg_model_poly.score(X = poly_predictors,y = df[\"mpg\"]) )\n",
    "\n",
    "# Check RMSE\n",
    "print(\"RMSE:\")\n",
    "print(mean_squared_error(multi_reg_model_poly.predict(poly_predictors), df[\"mpg\"])**0.5)\n",
    "\n",
    "print(\"MSE:\")\n",
    "print(mean_squared_error(df[\"mpg\"], multi_reg_model_poly.predict(poly_predictors)))"
   ]
  },
  {
   "cell_type": "markdown",
   "metadata": {},
   "source": [
    "# Regularization - Ridge/Lasso"
   ]
  },
  {
   "cell_type": "code",
   "execution_count": 51,
   "metadata": {
    "collapsed": true
   },
   "outputs": [],
   "source": [
    "from sklearn.preprocessing import scale\n",
    "from sklearn import cross_validation\n",
    "from sklearn.linear_model import Ridge, RidgeCV, Lasso, LassoCV"
   ]
  },
  {
   "cell_type": "code",
   "execution_count": 55,
   "metadata": {
    "collapsed": false
   },
   "outputs": [
    {
     "name": "stdout",
     "output_type": "stream",
     "text": [
      "<class 'pandas.core.frame.DataFrame'>\n",
      "Int64Index: 398 entries, 0 to 397\n",
      "Data columns (total 8 columns):\n",
      "mpg             398 non-null float64\n",
      "cylinders       398 non-null int64\n",
      "displacement    398 non-null float64\n",
      "horsepower      398 non-null float64\n",
      "weight          398 non-null int64\n",
      "acceleration    398 non-null float64\n",
      "model_year      398 non-null int64\n",
      "origin          398 non-null int64\n",
      "dtypes: float64(4), int64(4)\n",
      "memory usage: 28.0 KB\n"
     ]
    }
   ],
   "source": [
    "#removing car_name from DataFrame\n",
    "df_reg=df.drop('car_name', axis=1)\n",
    "df_reg.info()"
   ]
  },
  {
   "cell_type": "code",
   "execution_count": 93,
   "metadata": {
    "collapsed": false
   },
   "outputs": [
    {
     "name": "stdout",
     "output_type": "stream",
     "text": [
      "<class 'pandas.core.frame.DataFrame'>\n",
      "Int64Index: 398 entries, 0 to 397\n",
      "Data columns (total 7 columns):\n",
      "cylinders       398 non-null float64\n",
      "displacement    398 non-null float64\n",
      "horsepower      398 non-null float64\n",
      "weight          398 non-null float64\n",
      "acceleration    398 non-null float64\n",
      "model_year      398 non-null float64\n",
      "origin          398 non-null float64\n",
      "dtypes: float64(7)\n",
      "memory usage: 24.9 KB\n"
     ]
    }
   ],
   "source": [
    "y = df_reg.mpg\n",
    "# Drop the column with the dependent variable (mpg)\n",
    "X = df_reg.drop(['mpg'], axis=1).astype('float64')\n",
    "X.info()"
   ]
  },
  {
   "cell_type": "code",
   "execution_count": 67,
   "metadata": {
    "collapsed": false
   },
   "outputs": [
    {
     "data": {
      "text/plain": [
       "array([  5.00000000e+09,   3.78231664e+09,   2.86118383e+09,\n",
       "         2.16438064e+09,   1.63727458e+09,   1.23853818e+09,\n",
       "         9.36908711e+08,   7.08737081e+08,   5.36133611e+08,\n",
       "         4.05565415e+08,   3.06795364e+08,   2.32079442e+08,\n",
       "         1.75559587e+08,   1.32804389e+08,   1.00461650e+08,\n",
       "         7.59955541e+07,   5.74878498e+07,   4.34874501e+07,\n",
       "         3.28966612e+07,   2.48851178e+07,   1.88246790e+07,\n",
       "         1.42401793e+07,   1.07721735e+07,   8.14875417e+06,\n",
       "         6.16423370e+06,   4.66301673e+06,   3.52740116e+06,\n",
       "         2.66834962e+06,   2.01850863e+06,   1.52692775e+06,\n",
       "         1.15506485e+06,   8.73764200e+05,   6.60970574e+05,\n",
       "         5.00000000e+05,   3.78231664e+05,   2.86118383e+05,\n",
       "         2.16438064e+05,   1.63727458e+05,   1.23853818e+05,\n",
       "         9.36908711e+04,   7.08737081e+04,   5.36133611e+04,\n",
       "         4.05565415e+04,   3.06795364e+04,   2.32079442e+04,\n",
       "         1.75559587e+04,   1.32804389e+04,   1.00461650e+04,\n",
       "         7.59955541e+03,   5.74878498e+03,   4.34874501e+03,\n",
       "         3.28966612e+03,   2.48851178e+03,   1.88246790e+03,\n",
       "         1.42401793e+03,   1.07721735e+03,   8.14875417e+02,\n",
       "         6.16423370e+02,   4.66301673e+02,   3.52740116e+02,\n",
       "         2.66834962e+02,   2.01850863e+02,   1.52692775e+02,\n",
       "         1.15506485e+02,   8.73764200e+01,   6.60970574e+01,\n",
       "         5.00000000e+01,   3.78231664e+01,   2.86118383e+01,\n",
       "         2.16438064e+01,   1.63727458e+01,   1.23853818e+01,\n",
       "         9.36908711e+00,   7.08737081e+00,   5.36133611e+00,\n",
       "         4.05565415e+00,   3.06795364e+00,   2.32079442e+00,\n",
       "         1.75559587e+00,   1.32804389e+00,   1.00461650e+00,\n",
       "         7.59955541e-01,   5.74878498e-01,   4.34874501e-01,\n",
       "         3.28966612e-01,   2.48851178e-01,   1.88246790e-01,\n",
       "         1.42401793e-01,   1.07721735e-01,   8.14875417e-02,\n",
       "         6.16423370e-02,   4.66301673e-02,   3.52740116e-02,\n",
       "         2.66834962e-02,   2.01850863e-02,   1.52692775e-02,\n",
       "         1.15506485e-02,   8.73764200e-03,   6.60970574e-03,\n",
       "         5.00000000e-03])"
      ]
     },
     "execution_count": 67,
     "metadata": {},
     "output_type": "execute_result"
    }
   ],
   "source": [
    "# Generate array of alphas from very small to very big to cover all scenarios\n",
    "# From the null model containing only the intercept to the least squares fit\n",
    "alphas = 10**np.linspace(10,-2,100)*0.5\n",
    "alphas"
   ]
  },
  {
   "cell_type": "code",
   "execution_count": 69,
   "metadata": {
    "collapsed": false
   },
   "outputs": [
    {
     "data": {
      "text/plain": [
       "(100, 7)"
      ]
     },
     "execution_count": 69,
     "metadata": {},
     "output_type": "execute_result"
    }
   ],
   "source": [
    "ridge = Ridge(normalize=True)\n",
    "coefs = []\n",
    "for a in alphas:\n",
    "    ridge.set_params(alpha=a)\n",
    "    ridge.fit(X, y)\n",
    "    coefs.append(ridge.coef_)\n",
    "\n",
    "np.shape(coefs)"
   ]
  },
  {
   "cell_type": "code",
   "execution_count": 70,
   "metadata": {
    "collapsed": false
   },
   "outputs": [
    {
     "data": {
      "text/plain": [
       "<matplotlib.text.Text at 0xe0c1d68>"
      ]
     },
     "execution_count": 70,
     "metadata": {},
     "output_type": "execute_result"
    },
    {
     "data": {
      "image/png": "[encoded data removed]",
      "text/plain": [
       "<matplotlib.figure.Figure at 0xe0bc080>"
      ]
     },
     "metadata": {},
     "output_type": "display_data"
    }
   ],
   "source": [
    "ax = plt.gca()\n",
    "ax.plot(alphas, coefs)\n",
    "ax.set_xscale('log')\n",
    "plt.axis('tight')\n",
    "plt.xlabel('alpha')\n",
    "plt.ylabel('weights')"
   ]
  },
  {
   "cell_type": "code",
   "execution_count": 117,
   "metadata": {
    "collapsed": false
   },
   "outputs": [
    {
     "name": "stdout",
     "output_type": "stream",
     "text": [
      "Coefficients:\n",
      "cylinders      -0.410747\n",
      "displacement   -0.007192\n",
      "horsepower     -0.018083\n",
      "weight         -0.000958\n",
      "acceleration    0.114404\n",
      "model_year      0.172414\n",
      "origin          0.665482\n",
      "dtype: float64\n",
      "MSE:\n",
      "25.1184257377\n"
     ]
    }
   ],
   "source": [
    "X_train, X_test , y_train, y_test = cross_validation.train_test_split(X, y, test_size=0.5, random_state=1)\n",
    "\n",
    "# alpha=4\n",
    "ridge2 = Ridge(alpha=4, normalize=True)\n",
    "# Fit a ridge regression on the training data\n",
    "ridge2.fit(X_train, y_train) \n",
    "# Use this model to predict the test data\n",
    "pred2 = ridge2.predict(X_test) \n",
    "# Print coefficients\n",
    "print(\"Coefficients:\")\n",
    "print(pd.Series(ridge2.coef_, index=X.columns)) \n",
    "# Calculate the test MSE\n",
    "print(\"MSE:\")\n",
    "print(mean_squared_error(y_test, pred2)) "
   ]
  },
  {
   "cell_type": "code",
   "execution_count": 118,
   "metadata": {
    "collapsed": false
   },
   "outputs": [
    {
     "name": "stdout",
     "output_type": "stream",
     "text": [
      "Coefficients:\n",
      "cylinders      -3.601755e-10\n",
      "displacement   -6.271197e-12\n",
      "horsepower     -1.584508e-11\n",
      "weight         -7.769244e-13\n",
      "acceleration    1.198951e-10\n",
      "model_year      1.163323e-10\n",
      "origin          5.391499e-10\n",
      "dtype: float64\n",
      "MSE:\n",
      "62.9643149988\n"
     ]
    }
   ],
   "source": [
    "#alpha=10**10\n",
    "ridge3 = Ridge(alpha=10**10, normalize=True)\n",
    "# Fit a ridge regression on the training data\n",
    "ridge3.fit(X_train, y_train) \n",
    "# Use this model to predict the test data\n",
    "pred3 = ridge3.predict(X_test) \n",
    "# Print coefficients\n",
    "print(\"Coefficients:\")\n",
    "print(pd.Series(ridge3.coef_, index=X.columns)) \n",
    "# Calculate the test MSE\n",
    "print(\"MSE:\")\n",
    "print(mean_squared_error(y_test, pred3)) "
   ]
  },
  {
   "cell_type": "code",
   "execution_count": 119,
   "metadata": {
    "collapsed": false
   },
   "outputs": [
    {
     "name": "stdout",
     "output_type": "stream",
     "text": [
      "Coefficients:\n",
      "cylinders      -0.789514\n",
      "displacement    0.026359\n",
      "horsepower     -0.002554\n",
      "weight         -0.007261\n",
      "acceleration    0.219371\n",
      "model_year      0.747693\n",
      "origin          1.549069\n",
      "dtype: float64\n",
      "MSE:\n",
      "11.1667640614\n"
     ]
    }
   ],
   "source": [
    "# alpha=0\n",
    "ridge4 = Ridge(alpha=0, normalize=True)\n",
    "# Fit a ridge regression on the training data\n",
    "ridge4.fit(X_train, y_train) \n",
    "# Use this model to predict the test data\n",
    "pred = ridge4.predict(X_test)\n",
    "# Print coefficients\n",
    "print(\"Coefficients:\")\n",
    "print(pd.Series(ridge4.coef_, index=X.columns))\n",
    "# Calculate the test MSE\n",
    "print(\"MSE:\")\n",
    "print(mean_squared_error(y_test, pred)) "
   ]
  },
  {
   "cell_type": "code",
   "execution_count": 75,
   "metadata": {
    "collapsed": false
   },
   "outputs": [
    {
     "data": {
      "text/plain": [
       "0.0050000000000000001"
      ]
     },
     "execution_count": 75,
     "metadata": {},
     "output_type": "execute_result"
    }
   ],
   "source": [
    "# Using Cross-Validation, find the best alpha that results in the smallest cross-validation error\n",
    "ridgecv = RidgeCV(alphas=alphas, scoring='mean_squared_error', normalize=True)\n",
    "ridgecv.fit(X_train, y_train)\n",
    "ridgecv.alpha_"
   ]
  },
  {
   "cell_type": "code",
   "execution_count": 120,
   "metadata": {
    "collapsed": false
   },
   "outputs": [
    {
     "name": "stdout",
     "output_type": "stream",
     "text": [
      "MSE:\n",
      "11.0679901156\n"
     ]
    }
   ],
   "source": [
    "# alpha=0.005\n",
    "ridge5 = Ridge(alpha=ridgecv.alpha_, normalize=True)\n",
    "ridge5.fit(X_train, y_train)\n",
    "print(\"MSE:\")\n",
    "print(mean_squared_error(y_test, ridge5.predict(X_test)))"
   ]
  },
  {
   "cell_type": "code",
   "execution_count": 123,
   "metadata": {
    "collapsed": false
   },
   "outputs": [
    {
     "name": "stdout",
     "output_type": "stream",
     "text": [
      "R-Squared:\n",
      "0.820740461486\n",
      "MSE:\n",
      "10.9233806227\n"
     ]
    },
    {
     "data": {
      "text/plain": [
       "cylinders      -0.369913\n",
       "displacement    0.015246\n",
       "horsepower     -0.014051\n",
       "weight         -0.006313\n",
       "acceleration    0.073619\n",
       "model_year      0.746443\n",
       "origin          1.400749\n",
       "dtype: float64"
      ]
     },
     "execution_count": 123,
     "metadata": {},
     "output_type": "execute_result"
    }
   ],
   "source": [
    "ridge5.fit(X, y)\n",
    "print(\"R-Squared:\")\n",
    "print(ridge5.score(X,y))\n",
    "print(\"MSE:\")\n",
    "print(mean_squared_error(y, ridge5.predict(X)))\n",
    "pd.Series(ridge5.coef_, index=X.columns)"
   ]
  },
  {
   "cell_type": "code",
   "execution_count": 79,
   "metadata": {
    "collapsed": false
   },
   "outputs": [
    {
     "data": {
      "text/plain": [
       "<matplotlib.text.Text at 0xbfbcc50>"
      ]
     },
     "execution_count": 79,
     "metadata": {},
     "output_type": "execute_result"
    },
    {
     "data": {
      "image/png": "[encoded data removed]",
      "text/plain": [
       "<matplotlib.figure.Figure at 0xc33f9b0>"
      ]
     },
     "metadata": {},
     "output_type": "display_data"
    }
   ],
   "source": [
    "lasso = Lasso(max_iter=10000, normalize=True)\n",
    "coefs = []\n",
    "for a in alphas:\n",
    "    lasso.set_params(alpha=a)\n",
    "    lasso.fit(scale(X_train), y_train)\n",
    "    coefs.append(lasso.coef_)\n",
    "\n",
    "ax = plt.gca()\n",
    "ax.plot(alphas*2, coefs)\n",
    "ax.set_xscale('log')\n",
    "plt.axis('tight')\n",
    "plt.xlabel('alpha')\n",
    "plt.ylabel('weights')"
   ]
  },
  {
   "cell_type": "code",
   "execution_count": 122,
   "metadata": {
    "collapsed": false
   },
   "outputs": [
    {
     "name": "stdout",
     "output_type": "stream",
     "text": [
      "MSE:\n",
      "11.0651128828\n",
      "R-Squared:\n",
      "0.824229003841\n"
     ]
    },
    {
     "data": {
      "text/plain": [
       "cylinders      -0.599436\n",
       "displacement    0.019692\n",
       "horsepower     -0.002088\n",
       "weight         -0.006935\n",
       "acceleration    0.196108\n",
       "model_year      0.740242\n",
       "origin          1.459347\n",
       "dtype: float64"
      ]
     },
     "execution_count": 122,
     "metadata": {},
     "output_type": "execute_result"
    }
   ],
   "source": [
    "lassocv = LassoCV(alphas=None, cv=10, max_iter=100000, normalize=True)\n",
    "lassocv.fit(X_train, y_train)\n",
    "lasso.set_params(alpha=lassocv.alpha_)\n",
    "lasso.fit(X_train, y_train)\n",
    "\n",
    "print(\"MSE:\")\n",
    "print(mean_squared_error(y_test, lasso.predict(X_test)))\n",
    "print(\"R-Squared:\")\n",
    "print(lasso.score(X_test,y_test))\n",
    "\n",
    "pd.Series(lasso.coef_, index=X.columns)"
   ]
  },
  {
   "cell_type": "markdown",
   "metadata": {},
   "source": [
    "# Results Overview"
   ]
  },
  {
   "cell_type": "markdown",
   "metadata": {},
   "source": [
    "Simple Linear Regression (Best Results):\n",
    "Model with variable weight\n",
    "R-Squared:\t0.691792980034\n",
    "MSE:\t\t18.7809397346\n",
    "\n",
    "Polynomial Regression (Best Results):\n",
    "Model with variable weight\n",
    "R-Squared:\t0.714788125827\n",
    "MSE:\t\t17.3797047875\n",
    "\n",
    "Multiple Regression (Best Results):\n",
    "Model with variables weight and horsepower\n",
    "R-Squared:\t0.704088271106\n",
    "MSE:\t\t18.0317124112\n",
    "\n",
    "Polynomial Multiple Regression (Best Results):\n",
    "Model with variables weight and horsepower\n",
    "R-Squared:\t0.744883214628\n",
    "MSE:\t\t15.5458268663\n",
    "\n",
    "Regularization with Cross-Validation:\n",
    "Ridge(a=0.005):\n",
    "Performs L2 regularization, adds penalty equivalent to square of the magnitude of coefficients\n",
    "Using Cross-Validation, the best alpha that results \n",
    "in the smallest cross-validation error was a=0.05\n",
    "R-Squared:\t0.820740461486\n",
    "MSE:\t\t10.9233806227\n",
    "\n",
    "Lasso:\n",
    "Performs L1 regularization, adds penalty equivalent to absolute value of the magnitude of coefficients\n",
    "R-Squared:\t0.824229003841\n",
    "MSE:\t\t11.0651128828"
   ]
  }
 ],
 "metadata": {
  "kernelspec": {
   "display_name": "Python 3",
   "language": "python",
   "name": "python3"
  },
  "language_info": {
   "codemirror_mode": {
    "name": "ipython",
    "version": 3
   },
   "file_extension": ".py",
   "mimetype": "text/x-python",
   "name": "python",
   "nbconvert_exporter": "python",
   "pygments_lexer": "ipython3",
   "version": "3.5.1"
  }
 },
 "nbformat": 4,
 "nbformat_minor": 0
}
