{
 "cells": [
  {
   "cell_type": "markdown",
   "metadata": {},
   "source": [
    "# Project 4\n",
    "\n",
    "In this project, you will summarize and present your analysis from Projects 1-3."
   ]
  },
  {
   "cell_type": "markdown",
   "metadata": {},
   "source": [
    "### Intro: Write a problem Statement/ Specific Aim for this project"
   ]
  },
  {
   "cell_type": "markdown",
   "metadata": {},
   "source": [
    "Answer: Using UCLA admissions data, determine how likely students will be admitted into graduate school using gre, gpa and school prestige data."
   ]
  },
  {
   "cell_type": "markdown",
   "metadata": {},
   "source": [
    "### Dataset:  Write up a description of your data and any cleaning that was completed"
   ]
  },
  {
   "cell_type": "markdown",
   "metadata": {},
   "source": [
    "Answer: There were 400 objervations in our dataset.  After dropping missing data from the analysis, the final data set contained 397 objervations."
   ]
  },
  {
   "cell_type": "markdown",
   "metadata": {
    "collapsed": true
   },
   "source": [
    "### Demo: Provide a table that explains the data by admission status"
   ]
  },
  {
   "cell_type": "code",
   "execution_count": 4,
   "metadata": {
    "collapsed": false
   },
   "outputs": [
    {
     "name": "stdout",
     "output_type": "stream",
     "text": [
      "           1    2    3   4  rowtotal\n",
      "0         28   95   93  55       271\n",
      "1         33   53   28  12       126\n",
      "coltotal  61  148  121  67       397\n",
      "                 1         2         3         4  rowtotal\n",
      "0         0.070529  0.239295  0.234257  0.138539   0.68262\n",
      "1         0.083123  0.133501  0.070529  0.030227   0.31738\n",
      "coltotal  0.153652  0.372796  0.304786  0.168766   1.00000\n"
     ]
    },
    {
     "data": {
      "text/html": [
       "<div>\n",
       "<table border=\"1\" class=\"dataframe\">\n",
       "  <thead>\n",
       "    <tr style=\"text-align: right;\">\n",
       "      <th></th>\n",
       "      <th></th>\n",
       "      <th>gpa</th>\n",
       "      <th>gre</th>\n",
       "      <th>prestige_1.0</th>\n",
       "      <th>prestige_2.0</th>\n",
       "      <th>prestige_3.0</th>\n",
       "      <th>prestige_4.0</th>\n",
       "    </tr>\n",
       "    <tr>\n",
       "      <th>admit</th>\n",
       "      <th></th>\n",
       "      <th></th>\n",
       "      <th></th>\n",
       "      <th></th>\n",
       "      <th></th>\n",
       "      <th></th>\n",
       "      <th></th>\n",
       "    </tr>\n",
       "  </thead>\n",
       "  <tbody>\n",
       "    <tr>\n",
       "      <th rowspan=\"8\" valign=\"top\">0</th>\n",
       "      <th>count</th>\n",
       "      <td>271.000000</td>\n",
       "      <td>271.000000</td>\n",
       "      <td>271.000000</td>\n",
       "      <td>271.000000</td>\n",
       "      <td>271.000000</td>\n",
       "      <td>271.000000</td>\n",
       "    </tr>\n",
       "    <tr>\n",
       "      <th>mean</th>\n",
       "      <td>3.347159</td>\n",
       "      <td>573.579336</td>\n",
       "      <td>0.103321</td>\n",
       "      <td>0.350554</td>\n",
       "      <td>0.343173</td>\n",
       "      <td>0.202952</td>\n",
       "    </tr>\n",
       "    <tr>\n",
       "      <th>std</th>\n",
       "      <td>0.376355</td>\n",
       "      <td>116.052798</td>\n",
       "      <td>0.304941</td>\n",
       "      <td>0.478026</td>\n",
       "      <td>0.475647</td>\n",
       "      <td>0.402941</td>\n",
       "    </tr>\n",
       "    <tr>\n",
       "      <th>min</th>\n",
       "      <td>2.260000</td>\n",
       "      <td>220.000000</td>\n",
       "      <td>0.000000</td>\n",
       "      <td>0.000000</td>\n",
       "      <td>0.000000</td>\n",
       "      <td>0.000000</td>\n",
       "    </tr>\n",
       "    <tr>\n",
       "      <th>25%</th>\n",
       "      <td>3.080000</td>\n",
       "      <td>500.000000</td>\n",
       "      <td>0.000000</td>\n",
       "      <td>0.000000</td>\n",
       "      <td>0.000000</td>\n",
       "      <td>0.000000</td>\n",
       "    </tr>\n",
       "    <tr>\n",
       "      <th>50%</th>\n",
       "      <td>3.340000</td>\n",
       "      <td>580.000000</td>\n",
       "      <td>0.000000</td>\n",
       "      <td>0.000000</td>\n",
       "      <td>0.000000</td>\n",
       "      <td>0.000000</td>\n",
       "    </tr>\n",
       "    <tr>\n",
       "      <th>75%</th>\n",
       "      <td>3.610000</td>\n",
       "      <td>660.000000</td>\n",
       "      <td>0.000000</td>\n",
       "      <td>1.000000</td>\n",
       "      <td>1.000000</td>\n",
       "      <td>0.000000</td>\n",
       "    </tr>\n",
       "    <tr>\n",
       "      <th>max</th>\n",
       "      <td>4.000000</td>\n",
       "      <td>800.000000</td>\n",
       "      <td>1.000000</td>\n",
       "      <td>1.000000</td>\n",
       "      <td>1.000000</td>\n",
       "      <td>1.000000</td>\n",
       "    </tr>\n",
       "    <tr>\n",
       "      <th rowspan=\"8\" valign=\"top\">1</th>\n",
       "      <th>count</th>\n",
       "      <td>126.000000</td>\n",
       "      <td>126.000000</td>\n",
       "      <td>126.000000</td>\n",
       "      <td>126.000000</td>\n",
       "      <td>126.000000</td>\n",
       "      <td>126.000000</td>\n",
       "    </tr>\n",
       "    <tr>\n",
       "      <th>mean</th>\n",
       "      <td>3.489206</td>\n",
       "      <td>618.571429</td>\n",
       "      <td>0.261905</td>\n",
       "      <td>0.420635</td>\n",
       "      <td>0.222222</td>\n",
       "      <td>0.095238</td>\n",
       "    </tr>\n",
       "    <tr>\n",
       "      <th>std</th>\n",
       "      <td>0.371655</td>\n",
       "      <td>109.257233</td>\n",
       "      <td>0.441426</td>\n",
       "      <td>0.495632</td>\n",
       "      <td>0.417399</td>\n",
       "      <td>0.294715</td>\n",
       "    </tr>\n",
       "    <tr>\n",
       "      <th>min</th>\n",
       "      <td>2.420000</td>\n",
       "      <td>300.000000</td>\n",
       "      <td>0.000000</td>\n",
       "      <td>0.000000</td>\n",
       "      <td>0.000000</td>\n",
       "      <td>0.000000</td>\n",
       "    </tr>\n",
       "    <tr>\n",
       "      <th>25%</th>\n",
       "      <td>3.220000</td>\n",
       "      <td>540.000000</td>\n",
       "      <td>0.000000</td>\n",
       "      <td>0.000000</td>\n",
       "      <td>0.000000</td>\n",
       "      <td>0.000000</td>\n",
       "    </tr>\n",
       "    <tr>\n",
       "      <th>50%</th>\n",
       "      <td>3.545000</td>\n",
       "      <td>620.000000</td>\n",
       "      <td>0.000000</td>\n",
       "      <td>0.000000</td>\n",
       "      <td>0.000000</td>\n",
       "      <td>0.000000</td>\n",
       "    </tr>\n",
       "    <tr>\n",
       "      <th>75%</th>\n",
       "      <td>3.757500</td>\n",
       "      <td>680.000000</td>\n",
       "      <td>1.000000</td>\n",
       "      <td>1.000000</td>\n",
       "      <td>0.000000</td>\n",
       "      <td>0.000000</td>\n",
       "    </tr>\n",
       "    <tr>\n",
       "      <th>max</th>\n",
       "      <td>4.000000</td>\n",
       "      <td>800.000000</td>\n",
       "      <td>1.000000</td>\n",
       "      <td>1.000000</td>\n",
       "      <td>1.000000</td>\n",
       "      <td>1.000000</td>\n",
       "    </tr>\n",
       "  </tbody>\n",
       "</table>\n",
       "</div>"
      ],
      "text/plain": [
       "                    gpa         gre  prestige_1.0  prestige_2.0  prestige_3.0  \\\n",
       "admit                                                                           \n",
       "0     count  271.000000  271.000000    271.000000    271.000000    271.000000   \n",
       "      mean     3.347159  573.579336      0.103321      0.350554      0.343173   \n",
       "      std      0.376355  116.052798      0.304941      0.478026      0.475647   \n",
       "      min      2.260000  220.000000      0.000000      0.000000      0.000000   \n",
       "      25%      3.080000  500.000000      0.000000      0.000000      0.000000   \n",
       "      50%      3.340000  580.000000      0.000000      0.000000      0.000000   \n",
       "      75%      3.610000  660.000000      0.000000      1.000000      1.000000   \n",
       "      max      4.000000  800.000000      1.000000      1.000000      1.000000   \n",
       "1     count  126.000000  126.000000    126.000000    126.000000    126.000000   \n",
       "      mean     3.489206  618.571429      0.261905      0.420635      0.222222   \n",
       "      std      0.371655  109.257233      0.441426      0.495632      0.417399   \n",
       "      min      2.420000  300.000000      0.000000      0.000000      0.000000   \n",
       "      25%      3.220000  540.000000      0.000000      0.000000      0.000000   \n",
       "      50%      3.545000  620.000000      0.000000      0.000000      0.000000   \n",
       "      75%      3.757500  680.000000      1.000000      1.000000      0.000000   \n",
       "      max      4.000000  800.000000      1.000000      1.000000      1.000000   \n",
       "\n",
       "             prestige_4.0  \n",
       "admit                      \n",
       "0     count    271.000000  \n",
       "      mean       0.202952  \n",
       "      std        0.402941  \n",
       "      min        0.000000  \n",
       "      25%        0.000000  \n",
       "      50%        0.000000  \n",
       "      75%        0.000000  \n",
       "      max        1.000000  \n",
       "1     count    126.000000  \n",
       "      mean       0.095238  \n",
       "      std        0.294715  \n",
       "      min        0.000000  \n",
       "      25%        0.000000  \n",
       "      50%        0.000000  \n",
       "      75%        0.000000  \n",
       "      max        1.000000  "
      ]
     },
     "execution_count": 4,
     "metadata": {},
     "output_type": "execute_result"
    }
   ],
   "source": [
    "%matplotlib inline\n",
    "import matplotlib.pyplot as plt\n",
    "import pandas as pd\n",
    "import statsmodels.api as sm\n",
    "import pylab as pl\n",
    "import numpy as np\n",
    "\n",
    "df_raw = pd.read_csv(\"assets/admissions.csv\")\n",
    "df = df_raw.dropna() \n",
    "\n",
    "df_tab=pd.crosstab(index=df[\"admit\"],columns=df[\"prestige\"],margins=True)\n",
    "df_tab.columns = [\"1\",\"2\",\"3\",\"4\",\"rowtotal\"]\n",
    "df_tab.index= [\"0\",\"1\",\"coltotal\"]\n",
    "#crosstab for admit and prestige - frequency\n",
    "print(df_tab)\n",
    "#crosstab for admit and prestige - percentage\n",
    "print(df_tab/df_tab.ix[\"coltotal\",\"rowtotal\"])\n",
    "\n",
    "dummy_ranks=pd.get_dummies(df['prestige'],prefix='prestige')\n",
    "cols_to_keep=['admit','gre','gpa']\n",
    "data=df[cols_to_keep].join(dummy_ranks)\n",
    "#group by admit and get mean and standard deviation\n",
    "data.groupby('admit').describe()"
   ]
  },
  {
   "cell_type": "markdown",
   "metadata": {},
   "source": [
    "Mean (STD) or counts by admission status for each variable \n",
    "\n",
    "| Not Admitted | Admitted\n",
    "---| ---|---\n",
    "GPA|3.347(0.376)|3.489(0.371)\n",
    "GRE|573.579(116.052)|618.571(109.257)\n",
    "Prestige 1|28(7%)|33(8%)\n",
    "Prestige 2|95(23%)|53(13%)\n",
    "Prestige 3|93(23%)|28(7%)\n",
    "Prestige 4|55(13%)|12(3%)"
   ]
  },
  {
   "cell_type": "markdown",
   "metadata": {},
   "source": [
    "### Methods: Write up the methods used in your analysis"
   ]
  },
  {
   "cell_type": "markdown",
   "metadata": {},
   "source": [
    "Answer: Completed a logistic regression using Statsmodels.  The Ggoal was to identify the various factors that may influence admission into graduate school.  Dummy variables were created so that the prestige categorical variable can be used with logistic regression."
   ]
  },
  {
   "cell_type": "markdown",
   "metadata": {},
   "source": [
    "### Results: Write up your results"
   ]
  },
  {
   "cell_type": "markdown",
   "metadata": {},
   "source": [
    "Answer: There is an inverse relationship between the probability of being admitted and the prestige of a candidate's undergraduate school.  The probability of being accepted into a graduate school is higher for students from a high prestige undergraduate school."
   ]
  },
  {
   "cell_type": "markdown",
   "metadata": {},
   "source": [
    "### Visuals: Provide a table or visualization of these results"
   ]
  },
  {
   "cell_type": "code",
   "execution_count": 6,
   "metadata": {
    "collapsed": false
   },
   "outputs": [
    {
     "data": {
      "image/png": "[encoded data removed]",
      "text/plain": [
       "<matplotlib.figure.Figure at 0xb037fd0>"
      ]
     },
     "metadata": {},
     "output_type": "display_data"
    },
    {
     "name": "stdout",
     "output_type": "stream",
     "text": [
      "Optimization terminated successfully.\n",
      "         Current function value: 0.573854\n",
      "         Iterations 9\n",
      "                           Logit Regression Results                           \n",
      "==============================================================================\n",
      "Dep. Variable:                  admit   No. Observations:                  397\n",
      "Model:                          Logit   Df Residuals:                      391\n",
      "Method:                           MLE   Df Model:                            5\n",
      "Date:                Tue, 19 Jul 2016   Pseudo R-squ.:                 0.08166\n",
      "Time:                        21:52:15   Log-Likelihood:                -227.82\n",
      "converged:                       True   LL-Null:                       -248.08\n",
      "                                        LLR p-value:                 1.176e-07\n",
      "================================================================================\n",
      "                   coef    std err          z      P>|z|      [95.0% Conf. Int.]\n",
      "--------------------------------------------------------------------------------\n",
      "gre              0.0022      0.001      2.028      0.043      7.44e-05     0.004\n",
      "gpa              0.7793      0.333      2.344      0.019         0.128     1.431\n",
      "prestige_1.0    -0.0609        nan        nan        nan           nan       nan\n",
      "prestige_2.0    -0.7411        nan        nan        nan           nan       nan\n",
      "prestige_3.0    -1.3996        nan        nan        nan           nan       nan\n",
      "prestige_4.0    -1.6143        nan        nan        nan           nan       nan\n",
      "intercept       -3.8159        nan        nan        nan           nan       nan\n",
      "================================================================================\n"
     ]
    }
   ],
   "source": [
    "df.hist()\n",
    "pl.show()\n",
    "\n",
    "data['intercept'] = 1.0\n",
    "train_cols=data.columns[1:]\n",
    "logit=sm.Logit(data['admit'],data[train_cols])\n",
    "result=logit.fit()\n",
    "print(result.summary())"
   ]
  },
  {
   "cell_type": "markdown",
   "metadata": {},
   "source": [
    "### Discussion: Write up your discussion and future steps"
   ]
  },
  {
   "cell_type": "markdown",
   "metadata": {},
   "source": [
    "Answer: "
   ]
  }
 ],
 "metadata": {
  "kernelspec": {
   "display_name": "Python 3",
   "language": "python",
   "name": "python3"
  },
  "language_info": {
   "codemirror_mode": {
    "name": "ipython",
    "version": 3
   },
   "file_extension": ".py",
   "mimetype": "text/x-python",
   "name": "python",
   "nbconvert_exporter": "python",
   "pygments_lexer": "ipython3",
   "version": "3.5.1"
  }
 },
 "nbformat": 4,
 "nbformat_minor": 0
}
